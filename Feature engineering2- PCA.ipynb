{
 "cells": [
  {
   "cell_type": "code",
   "execution_count": 1,
   "metadata": {},
   "outputs": [],
   "source": [
    "import numpy as np\n",
    "import pandas as pd\n",
    "import matplotlib.pyplot as plt\n",
    "import seaborn as sns\n",
    "import scipy.stats as stats\n",
    "from scipy.stats.mstats import winsorize\n",
    "from sqlalchemy import create_engine\n",
    "%matplotlib inline"
   ]
  },
  {
   "cell_type": "code",
   "execution_count": 2,
   "metadata": {},
   "outputs": [],
   "source": [
    "postgres_user = 'dsbc_student'\n",
    "postgres_pw = '7*.8G9QH21'\n",
    "postgres_host = '142.93.121.174'\n",
    "postgres_port = '5432'\n",
    "postgres_db = 'useducation'\n",
    "\n",
    "engine = create_engine('postgresql://{}:{}@{}:{}/{}'.format(\n",
    "    postgres_user, postgres_pw, postgres_host, postgres_port, postgres_db))\n",
    "\n",
    "education_df = pd.read_sql_query('select * from useducation',con=engine)\n",
    "engine.dispose()"
   ]
  },
  {
   "cell_type": "code",
   "execution_count": 3,
   "metadata": {},
   "outputs": [],
   "source": [
    "#Replace nan values with mean values by state\n",
    "df2 = education_df.copy(deep=True)\n",
    "\n",
    "states = education_df['STATE'].unique()\n",
    "variables = ['ENROLL', 'TOTAL_REVENUE','FEDERAL_REVENUE', 'STATE_REVENUE', \n",
    "             'LOCAL_REVENUE','TOTAL_EXPENDITURE', 'INSTRUCTION_EXPENDITURE','SUPPORT_SERVICES_EXPENDITURE', \n",
    "             'OTHER_EXPENDITURE','CAPITAL_OUTLAY_EXPENDITURE', 'GRADES_PK_G', 'GRADES_KG_G','GRADES_4_G', \n",
    "             'GRADES_8_G', 'GRADES_12_G', 'GRADES_1_8_G','GRADES_9_12_G', 'GRADES_ALL_G']\n",
    "        \n",
    "for variable in variables:\n",
    "    for state in states:\n",
    "        df2.loc[df2['STATE'] == state, variable].fillna(df2[education_df['STATE'] == state][variable].mean(),inplace=True)"
   ]
  },
  {
   "cell_type": "code",
   "execution_count": 4,
   "metadata": {},
   "outputs": [],
   "source": [
    "#Replace nan values with interpolated values by state/year\n",
    "\n",
    "avg_variables = ['AVG_MATH_4_SCORE', 'AVG_MATH_8_SCORE', 'AVG_READING_4_SCORE', 'AVG_READING_8_SCORE']\n",
    "\n",
    "for variable in avg_variables:\n",
    "    for state in states:\n",
    "        df2.loc[df2['STATE'] == state, variable] = df2.loc[df2['STATE'] == state, variable].interpolate(method='linear')"
   ]
  },
  {
   "cell_type": "code",
   "execution_count": 5,
   "metadata": {},
   "outputs": [],
   "source": [
    "#Any states which still have NanN values should be dropped as they do not have sufficient data to accurately fill\n",
    "df2 = df2.dropna()"
   ]
  },
  {
   "cell_type": "markdown",
   "metadata": {},
   "source": [
    "# 1. Create a new score variable from the weighted averages of all score variables in the datasets. Notice that the number of students in the 4th grade isn't the same as the number of students in the 8th grade. So, you should appropriately weigh the scores!."
   ]
  },
  {
   "cell_type": "code",
   "execution_count": 6,
   "metadata": {},
   "outputs": [
    {
     "data": {
      "text/html": [
       "<div>\n",
       "<style scoped>\n",
       "    .dataframe tbody tr th:only-of-type {\n",
       "        vertical-align: middle;\n",
       "    }\n",
       "\n",
       "    .dataframe tbody tr th {\n",
       "        vertical-align: top;\n",
       "    }\n",
       "\n",
       "    .dataframe thead th {\n",
       "        text-align: right;\n",
       "    }\n",
       "</style>\n",
       "<table border=\"1\" class=\"dataframe\">\n",
       "  <thead>\n",
       "    <tr style=\"text-align: right;\">\n",
       "      <th></th>\n",
       "      <th>PRIMARY_KEY</th>\n",
       "      <th>STATE</th>\n",
       "      <th>YEAR</th>\n",
       "      <th>ENROLL</th>\n",
       "      <th>TOTAL_REVENUE</th>\n",
       "      <th>FEDERAL_REVENUE</th>\n",
       "      <th>STATE_REVENUE</th>\n",
       "      <th>LOCAL_REVENUE</th>\n",
       "      <th>TOTAL_EXPENDITURE</th>\n",
       "      <th>INSTRUCTION_EXPENDITURE</th>\n",
       "      <th>...</th>\n",
       "      <th>GRADES_4_G</th>\n",
       "      <th>GRADES_8_G</th>\n",
       "      <th>GRADES_12_G</th>\n",
       "      <th>GRADES_1_8_G</th>\n",
       "      <th>GRADES_9_12_G</th>\n",
       "      <th>GRADES_ALL_G</th>\n",
       "      <th>AVG_MATH_4_SCORE</th>\n",
       "      <th>AVG_MATH_8_SCORE</th>\n",
       "      <th>AVG_READING_4_SCORE</th>\n",
       "      <th>AVG_READING_8_SCORE</th>\n",
       "    </tr>\n",
       "  </thead>\n",
       "  <tbody>\n",
       "    <tr>\n",
       "      <th>54</th>\n",
       "      <td>1993_ARIZONA</td>\n",
       "      <td>ARIZONA</td>\n",
       "      <td>1993</td>\n",
       "      <td>676297.0</td>\n",
       "      <td>3427976.0</td>\n",
       "      <td>318465.0</td>\n",
       "      <td>1415407.0</td>\n",
       "      <td>1694104.0</td>\n",
       "      <td>3623946.0</td>\n",
       "      <td>1578889.0</td>\n",
       "      <td>...</td>\n",
       "      <td>57701.0</td>\n",
       "      <td>53500.0</td>\n",
       "      <td>37614.0</td>\n",
       "      <td>461398.0</td>\n",
       "      <td>182737.0</td>\n",
       "      <td>647299.0</td>\n",
       "      <td>215.834434</td>\n",
       "      <td>265.993417</td>\n",
       "      <td>206.291984</td>\n",
       "      <td>262.448330</td>\n",
       "    </tr>\n",
       "    <tr>\n",
       "      <th>55</th>\n",
       "      <td>1993_ARKANSAS</td>\n",
       "      <td>ARKANSAS</td>\n",
       "      <td>1993</td>\n",
       "      <td>311432.0</td>\n",
       "      <td>1346909.0</td>\n",
       "      <td>128196.0</td>\n",
       "      <td>771079.0</td>\n",
       "      <td>447634.0</td>\n",
       "      <td>1376067.0</td>\n",
       "      <td>782791.0</td>\n",
       "      <td>...</td>\n",
       "      <td>34255.0</td>\n",
       "      <td>36471.0</td>\n",
       "      <td>27169.0</td>\n",
       "      <td>280280.0</td>\n",
       "      <td>125801.0</td>\n",
       "      <td>407329.0</td>\n",
       "      <td>211.616130</td>\n",
       "      <td>257.647254</td>\n",
       "      <td>208.685273</td>\n",
       "      <td>266.423396</td>\n",
       "    </tr>\n",
       "    <tr>\n",
       "      <th>57</th>\n",
       "      <td>1993_COLORADO</td>\n",
       "      <td>COLORADO</td>\n",
       "      <td>1993</td>\n",
       "      <td>539538.0</td>\n",
       "      <td>3058326.0</td>\n",
       "      <td>147793.0</td>\n",
       "      <td>1242337.0</td>\n",
       "      <td>1668196.0</td>\n",
       "      <td>3028305.0</td>\n",
       "      <td>1537714.0</td>\n",
       "      <td>...</td>\n",
       "      <td>50807.0</td>\n",
       "      <td>47665.0</td>\n",
       "      <td>34770.0</td>\n",
       "      <td>403871.0</td>\n",
       "      <td>164260.0</td>\n",
       "      <td>575380.0</td>\n",
       "      <td>222.219036</td>\n",
       "      <td>273.200878</td>\n",
       "      <td>215.523979</td>\n",
       "      <td>266.856804</td>\n",
       "    </tr>\n",
       "    <tr>\n",
       "      <th>58</th>\n",
       "      <td>1993_CONNECTICUT</td>\n",
       "      <td>CONNECTICUT</td>\n",
       "      <td>1993</td>\n",
       "      <td>471918.0</td>\n",
       "      <td>4064158.0</td>\n",
       "      <td>149204.0</td>\n",
       "      <td>1433539.0</td>\n",
       "      <td>2481415.0</td>\n",
       "      <td>4079943.0</td>\n",
       "      <td>2302852.0</td>\n",
       "      <td>...</td>\n",
       "      <td>39093.0</td>\n",
       "      <td>34662.0</td>\n",
       "      <td>27979.0</td>\n",
       "      <td>310022.0</td>\n",
       "      <td>127655.0</td>\n",
       "      <td>443893.0</td>\n",
       "      <td>228.105503</td>\n",
       "      <td>275.202320</td>\n",
       "      <td>224.712775</td>\n",
       "      <td>264.457874</td>\n",
       "    </tr>\n",
       "    <tr>\n",
       "      <th>59</th>\n",
       "      <td>1993_DELAWARE</td>\n",
       "      <td>DELAWARE</td>\n",
       "      <td>1993</td>\n",
       "      <td>104355.0</td>\n",
       "      <td>683954.0</td>\n",
       "      <td>44497.0</td>\n",
       "      <td>443250.0</td>\n",
       "      <td>196207.0</td>\n",
       "      <td>694534.0</td>\n",
       "      <td>394680.0</td>\n",
       "      <td>...</td>\n",
       "      <td>8285.0</td>\n",
       "      <td>8265.0</td>\n",
       "      <td>5882.0</td>\n",
       "      <td>67899.0</td>\n",
       "      <td>28930.0</td>\n",
       "      <td>97394.0</td>\n",
       "      <td>217.181255</td>\n",
       "      <td>263.834857</td>\n",
       "      <td>207.792430</td>\n",
       "      <td>262.255809</td>\n",
       "    </tr>\n",
       "  </tbody>\n",
       "</table>\n",
       "<p>5 rows × 25 columns</p>\n",
       "</div>"
      ],
      "text/plain": [
       "         PRIMARY_KEY        STATE  YEAR    ENROLL  TOTAL_REVENUE  \\\n",
       "54      1993_ARIZONA      ARIZONA  1993  676297.0      3427976.0   \n",
       "55     1993_ARKANSAS     ARKANSAS  1993  311432.0      1346909.0   \n",
       "57     1993_COLORADO     COLORADO  1993  539538.0      3058326.0   \n",
       "58  1993_CONNECTICUT  CONNECTICUT  1993  471918.0      4064158.0   \n",
       "59     1993_DELAWARE     DELAWARE  1993  104355.0       683954.0   \n",
       "\n",
       "    FEDERAL_REVENUE  STATE_REVENUE  LOCAL_REVENUE  TOTAL_EXPENDITURE  \\\n",
       "54         318465.0      1415407.0      1694104.0          3623946.0   \n",
       "55         128196.0       771079.0       447634.0          1376067.0   \n",
       "57         147793.0      1242337.0      1668196.0          3028305.0   \n",
       "58         149204.0      1433539.0      2481415.0          4079943.0   \n",
       "59          44497.0       443250.0       196207.0           694534.0   \n",
       "\n",
       "    INSTRUCTION_EXPENDITURE  ...  GRADES_4_G  GRADES_8_G  GRADES_12_G  \\\n",
       "54                1578889.0  ...     57701.0     53500.0      37614.0   \n",
       "55                 782791.0  ...     34255.0     36471.0      27169.0   \n",
       "57                1537714.0  ...     50807.0     47665.0      34770.0   \n",
       "58                2302852.0  ...     39093.0     34662.0      27979.0   \n",
       "59                 394680.0  ...      8285.0      8265.0       5882.0   \n",
       "\n",
       "    GRADES_1_8_G  GRADES_9_12_G  GRADES_ALL_G  AVG_MATH_4_SCORE  \\\n",
       "54      461398.0       182737.0      647299.0        215.834434   \n",
       "55      280280.0       125801.0      407329.0        211.616130   \n",
       "57      403871.0       164260.0      575380.0        222.219036   \n",
       "58      310022.0       127655.0      443893.0        228.105503   \n",
       "59       67899.0        28930.0       97394.0        217.181255   \n",
       "\n",
       "    AVG_MATH_8_SCORE  AVG_READING_4_SCORE  AVG_READING_8_SCORE  \n",
       "54        265.993417           206.291984           262.448330  \n",
       "55        257.647254           208.685273           266.423396  \n",
       "57        273.200878           215.523979           266.856804  \n",
       "58        275.202320           224.712775           264.457874  \n",
       "59        263.834857           207.792430           262.255809  \n",
       "\n",
       "[5 rows x 25 columns]"
      ]
     },
     "execution_count": 6,
     "metadata": {},
     "output_type": "execute_result"
    }
   ],
   "source": [
    "df2.head()"
   ]
  },
  {
   "cell_type": "code",
   "execution_count": 7,
   "metadata": {},
   "outputs": [],
   "source": [
    "df2['weighted_score'] = (((df2['AVG_MATH_4_SCORE'] + df2['AVG_READING_4_SCORE'])*0.5*df2['GRADES_4_G']) + \n",
    "                        ((df2['AVG_MATH_8_SCORE'] + df2['AVG_READING_8_SCORE'])*0.5*df2['GRADES_8_G']))/(df2['GRADES_8_G'] +\n",
    "                                                                                                        df2['GRADES_4_G'])\n",
    "                        "
   ]
  },
  {
   "cell_type": "code",
   "execution_count": 8,
   "metadata": {},
   "outputs": [
    {
     "data": {
      "image/png": "[encoded data removed]",
      "text/plain": [
       "<Figure size 432x288 with 1 Axes>"
      ]
     },
     "metadata": {
      "needs_background": "light"
     },
     "output_type": "display_data"
    }
   ],
   "source": [
    "sns.distplot(df2['weighted_score'])\n",
    "plt.show()"
   ]
  },
  {
   "cell_type": "markdown",
   "metadata": {},
   "source": [
    "# 2. What are the correlations between this newly created score variable and the expenditure types? Which 1 of the expenditure types is more correlated than the others?"
   ]
  },
  {
   "cell_type": "code",
   "execution_count": 9,
   "metadata": {},
   "outputs": [
    {
     "data": {
      "text/plain": [
       "Index(['PRIMARY_KEY', 'STATE', 'YEAR', 'ENROLL', 'TOTAL_REVENUE',\n",
       "       'FEDERAL_REVENUE', 'STATE_REVENUE', 'LOCAL_REVENUE',\n",
       "       'TOTAL_EXPENDITURE', 'INSTRUCTION_EXPENDITURE',\n",
       "       'SUPPORT_SERVICES_EXPENDITURE', 'OTHER_EXPENDITURE',\n",
       "       'CAPITAL_OUTLAY_EXPENDITURE', 'GRADES_PK_G', 'GRADES_KG_G',\n",
       "       'GRADES_4_G', 'GRADES_8_G', 'GRADES_12_G', 'GRADES_1_8_G',\n",
       "       'GRADES_9_12_G', 'GRADES_ALL_G', 'AVG_MATH_4_SCORE', 'AVG_MATH_8_SCORE',\n",
       "       'AVG_READING_4_SCORE', 'AVG_READING_8_SCORE', 'weighted_score'],\n",
       "      dtype='object')"
      ]
     },
     "execution_count": 9,
     "metadata": {},
     "output_type": "execute_result"
    }
   ],
   "source": [
    "df2.columns"
   ]
  },
  {
   "cell_type": "code",
   "execution_count": 10,
   "metadata": {},
   "outputs": [
    {
     "data": {
      "image/png": "[encoded data removed]",
      "text/plain": [
       "<Figure size 3600x360 with 2 Axes>"
      ]
     },
     "metadata": {
      "needs_background": "light"
     },
     "output_type": "display_data"
    }
   ],
   "source": [
    "weighted_corr = df2.loc[:,('weighted_score','TOTAL_EXPENDITURE', 'INSTRUCTION_EXPENDITURE',\n",
    "                       'SUPPORT_SERVICES_EXPENDITURE', 'OTHER_EXPENDITURE', 'CAPITAL_OUTLAY_EXPENDITURE')].corr()\n",
    "\n",
    "plt.figure(figsize=(50,5))\n",
    "sns.heatmap(weighted_corr,square=True,annot=True)\n",
    "plt.yticks(rotation='horizontal')\n",
    "plt.xticks(rotation='vertical')\n",
    "plt.show()"
   ]
  },
  {
   "cell_type": "markdown",
   "metadata": {},
   "source": [
    "The variable with the strongest correlation to the weighted score is the INSTRUCTION_EXPENDITURE variable."
   ]
  },
  {
   "cell_type": "markdown",
   "metadata": {},
   "source": [
    "# 3. Now, apply PCA to the 4 expenditure types. How much of the total variance is explained by the 1st component?"
   ]
  },
  {
   "cell_type": "code",
   "execution_count": 11,
   "metadata": {},
   "outputs": [],
   "source": [
    "from sklearn.preprocessing import StandardScaler\n",
    "from sklearn.decomposition import PCA"
   ]
  },
  {
   "cell_type": "code",
   "execution_count": 12,
   "metadata": {},
   "outputs": [],
   "source": [
    "#Create dataset and scale for PCA\n",
    "\n",
    "X = df2.loc[:,('TOTAL_EXPENDITURE', 'INSTRUCTION_EXPENDITURE','SUPPORT_SERVICES_EXPENDITURE', 'OTHER_EXPENDITURE', \n",
    "               'CAPITAL_OUTLAY_EXPENDITURE')]\n",
    "\n",
    "sc = StandardScaler()\n",
    "X = sc.fit_transform(X)"
   ]
  },
  {
   "cell_type": "code",
   "execution_count": 13,
   "metadata": {},
   "outputs": [
    {
     "name": "stdout",
     "output_type": "stream",
     "text": [
      "0.9556304851603918\n"
     ]
    }
   ],
   "source": [
    "#Initialize pca, test 1st component\n",
    "\n",
    "pca = PCA()\n",
    "pca.fit(X)\n",
    "print(pca.explained_variance_ratio_[0])"
   ]
  },
  {
   "cell_type": "markdown",
   "metadata": {},
   "source": [
    "The first principal component captures ~95% of the variance in the data"
   ]
  },
  {
   "cell_type": "markdown",
   "metadata": {},
   "source": [
    "# 4. What is the correlation between the overall score variable and the 1st principal component? "
   ]
  },
  {
   "cell_type": "code",
   "execution_count": 14,
   "metadata": {},
   "outputs": [],
   "source": [
    "#Initialize pca, save the 1st component in a variable, add into the dataframe\n",
    "\n",
    "pca = PCA(n_components=1)\n",
    "pc1 = pca.fit_transform(X)\n",
    "\n",
    "df2['expenditure_pc1'] = pc1"
   ]
  },
  {
   "cell_type": "code",
   "execution_count": 15,
   "metadata": {},
   "outputs": [
    {
     "data": {
      "text/html": [
       "<div>\n",
       "<style scoped>\n",
       "    .dataframe tbody tr th:only-of-type {\n",
       "        vertical-align: middle;\n",
       "    }\n",
       "\n",
       "    .dataframe tbody tr th {\n",
       "        vertical-align: top;\n",
       "    }\n",
       "\n",
       "    .dataframe thead th {\n",
       "        text-align: right;\n",
       "    }\n",
       "</style>\n",
       "<table border=\"1\" class=\"dataframe\">\n",
       "  <thead>\n",
       "    <tr style=\"text-align: right;\">\n",
       "      <th></th>\n",
       "      <th>expenditure_pc1</th>\n",
       "      <th>weighted_score</th>\n",
       "    </tr>\n",
       "  </thead>\n",
       "  <tbody>\n",
       "    <tr>\n",
       "      <th>expenditure_pc1</th>\n",
       "      <td>1.000000</td>\n",
       "      <td>0.073271</td>\n",
       "    </tr>\n",
       "    <tr>\n",
       "      <th>weighted_score</th>\n",
       "      <td>0.073271</td>\n",
       "      <td>1.000000</td>\n",
       "    </tr>\n",
       "  </tbody>\n",
       "</table>\n",
       "</div>"
      ],
      "text/plain": [
       "                 expenditure_pc1  weighted_score\n",
       "expenditure_pc1         1.000000        0.073271\n",
       "weighted_score          0.073271        1.000000"
      ]
     },
     "execution_count": 15,
     "metadata": {},
     "output_type": "execute_result"
    }
   ],
   "source": [
    "df2.loc[:,('expenditure_pc1','weighted_score')].corr()"
   ]
  },
  {
   "cell_type": "markdown",
   "metadata": {},
   "source": [
    "# 5. If you were to choose the best variables for your model, would you prefer using the 1st principal component instead of the expenditure variables? Why?"
   ]
  },
  {
   "cell_type": "markdown",
   "metadata": {},
   "source": [
    "While the 1st principal component did not have a stronger correlation than the OTHER_EXPENDITURE variable, it captures 95% of the expenditure variance in just one variable and is correlated nearly as strongly. The specific question I was trying to answer would ultimately determine which variable I would include in the model."
   ]
  }
 ],
 "metadata": {
  "kernelspec": {
   "display_name": "Python 3",
   "language": "python",
   "name": "python3"
  },
  "language_info": {
   "codemirror_mode": {
    "name": "ipython",
    "version": 3
   },
   "file_extension": ".py",
   "mimetype": "text/x-python",
   "name": "python",
   "nbconvert_exporter": "python",
   "pygments_lexer": "ipython3",
   "version": "3.6.8"
  }
 },
 "nbformat": 4,
 "nbformat_minor": 2
}
